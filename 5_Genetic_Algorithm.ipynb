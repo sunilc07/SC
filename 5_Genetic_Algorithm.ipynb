{
 "cells": [
  {
   "cell_type": "code",
   "execution_count": null,
   "metadata": {
    "colab": {
     "base_uri": "https://localhost:8080/"
    },
    "executionInfo": {
     "elapsed": 5366,
     "status": "ok",
     "timestamp": 1680417138895,
     "user": {
      "displayName": "Siddhesh Mane",
      "userId": "09291277865058311581"
     },
     "user_tz": -330
    },
    "id": "ZI2znYYYpHaX",
    "outputId": "c268cf17-fa67-45ab-af2a-efd32e6ed674"
   },
   "outputs": [
    {
     "name": "stdout",
     "output_type": "stream",
     "text": [
      "Looking in indexes: https://pypi.org/simple, https://us-python.pkg.dev/colab-wheels/public/simple/\n",
      "Requirement already satisfied: pygad in /usr/local/lib/python3.9/dist-packages (2.19.2)\n",
      "Requirement already satisfied: numpy in /usr/local/lib/python3.9/dist-packages (from pygad) (1.22.4)\n",
      "Requirement already satisfied: cloudpickle in /usr/local/lib/python3.9/dist-packages (from pygad) (2.2.1)\n",
      "Requirement already satisfied: matplotlib in /usr/local/lib/python3.9/dist-packages (from pygad) (3.7.1)\n",
      "Requirement already satisfied: python-dateutil>=2.7 in /usr/local/lib/python3.9/dist-packages (from matplotlib->pygad) (2.8.2)\n",
      "Requirement already satisfied: packaging>=20.0 in /usr/local/lib/python3.9/dist-packages (from matplotlib->pygad) (23.0)\n",
      "Requirement already satisfied: importlib-resources>=3.2.0 in /usr/local/lib/python3.9/dist-packages (from matplotlib->pygad) (5.12.0)\n",
      "Requirement already satisfied: fonttools>=4.22.0 in /usr/local/lib/python3.9/dist-packages (from matplotlib->pygad) (4.39.3)\n",
      "Requirement already satisfied: pillow>=6.2.0 in /usr/local/lib/python3.9/dist-packages (from matplotlib->pygad) (8.4.0)\n",
      "Requirement already satisfied: kiwisolver>=1.0.1 in /usr/local/lib/python3.9/dist-packages (from matplotlib->pygad) (1.4.4)\n",
      "Requirement already satisfied: contourpy>=1.0.1 in /usr/local/lib/python3.9/dist-packages (from matplotlib->pygad) (1.0.7)\n",
      "Requirement already satisfied: pyparsing>=2.3.1 in /usr/local/lib/python3.9/dist-packages (from matplotlib->pygad) (3.0.9)\n",
      "Requirement already satisfied: cycler>=0.10 in /usr/local/lib/python3.9/dist-packages (from matplotlib->pygad) (0.11.0)\n",
      "Requirement already satisfied: zipp>=3.1.0 in /usr/local/lib/python3.9/dist-packages (from importlib-resources>=3.2.0->matplotlib->pygad) (3.15.0)\n",
      "Requirement already satisfied: six>=1.5 in /usr/local/lib/python3.9/dist-packages (from python-dateutil>=2.7->matplotlib->pygad) (1.16.0)\n"
     ]
    }
   ],
   "source": [
    "!pip install pygad"
   ]
  },
  {
   "cell_type": "code",
   "execution_count": null,
   "metadata": {
    "id": "ka1l_oJQqWSX"
   },
   "outputs": [],
   "source": [
    "import pygad\n",
    "import numpy as np"
   ]
  },
  {
   "cell_type": "code",
   "execution_count": null,
   "metadata": {
    "id": "N95N8eCJqY1F"
   },
   "outputs": [],
   "source": [
    "X=[4,-2,3.5,5,-11,-4.7]\n",
    "desired_output=44"
   ]
  },
  {
   "cell_type": "code",
   "execution_count": null,
   "metadata": {
    "id": "KJgJsHKmqdTG"
   },
   "outputs": [],
   "source": [
    "def fitness_func(solution,solution_idx):\n",
    "    output=np.sum(solution*X)\n",
    "    fitness=1.0/np.abs(output-desired_output)\n",
    "    return fitness"
   ]
  },
  {
   "cell_type": "code",
   "execution_count": null,
   "metadata": {
    "id": "18jkdw4bqe3M"
   },
   "outputs": [],
   "source": [
    "fitness_function=fitness_func\n",
    "num_generations=50\n",
    "num_parents_mating=4\n",
    "sol_per_pop=8\n",
    "num_genes=len(X)\n",
    "init_range_low=-2\n",
    "init_range_high=5\n",
    "parent_selection_type='sss'\n",
    "keep_parents=1\n",
    "crossover_type=\"single_point\"\n",
    "mutation_type=\"random\""
   ]
  },
  {
   "cell_type": "code",
   "execution_count": null,
   "metadata": {
    "id": "_1xyZrNIqf7t"
   },
   "outputs": [],
   "source": [
    "ga_instance=pygad.GA(num_generations=num_generations,num_parents_mating=num_parents_mating,\n",
    "                    fitness_func=fitness_function,sol_per_pop=sol_per_pop,\n",
    "                    num_genes=num_genes,init_range_low=init_range_low,\n",
    "                    init_range_high=init_range_high,\n",
    "                    parent_selection_type=parent_selection_type,keep_parents=keep_parents,\n",
    "                    crossover_type=crossover_type,mutation_type=mutation_type,\n",
    "                    mutation_percent_genes=10)"
   ]
  },
  {
   "cell_type": "code",
   "execution_count": null,
   "metadata": {
    "id": "r2cpgXZuqhPu"
   },
   "outputs": [],
   "source": [
    "ga_instance.run()"
   ]
  },
  {
   "cell_type": "code",
   "execution_count": null,
   "metadata": {
    "colab": {
     "base_uri": "https://localhost:8080/"
    },
    "executionInfo": {
     "elapsed": 11,
     "status": "ok",
     "timestamp": 1680417218211,
     "user": {
      "displayName": "Siddhesh Mane",
      "userId": "09291277865058311581"
     },
     "user_tz": -330
    },
    "id": "h1h_vb0qqjd1",
    "outputId": "564ab49e-3ef3-4d14-e03d-aec0cedb41f1"
   },
   "outputs": [
    {
     "name": "stdout",
     "output_type": "stream",
     "text": [
      "solution is: [ 4.67062369 -0.72027908  2.59874441  1.95629202 -1.58706057  2.65013651]\n"
     ]
    }
   ],
   "source": [
    "solution,solution_fitness,solution_idx=ga_instance.best_solution()\n",
    "print(\"solution is:\",solution)"
   ]
  },
  {
   "cell_type": "code",
   "execution_count": null,
   "metadata": {
    "colab": {
     "base_uri": "https://localhost:8080/"
    },
    "executionInfo": {
     "elapsed": 520,
     "status": "ok",
     "timestamp": 1680417223843,
     "user": {
      "displayName": "Siddhesh Mane",
      "userId": "09291277865058311581"
     },
     "user_tz": -330
    },
    "id": "Z6QdimQiqmLm",
    "outputId": "a2796d5a-e944-4734-86ab-37b02877505c"
   },
   "outputs": [
    {
     "name": "stdout",
     "output_type": "stream",
     "text": [
      "fitness of solution is: 466.60517395434977\n"
     ]
    }
   ],
   "source": [
    "print(\"fitness of solution is:\",solution_fitness)"
   ]
  },
  {
   "cell_type": "code",
   "execution_count": null,
   "metadata": {
    "id": "HMZdAbY_q2su"
   },
   "outputs": [],
   "source": []
  }
 ],
 "metadata": {
  "colab": {
   "authorship_tag": "ABX9TyMmpap3AgCC6cXiLk50KHFp",
   "provenance": []
  },
  "kernelspec": {
   "display_name": "Python 3 (ipykernel)",
   "language": "python",
   "name": "python3"
  },
  "language_info": {
   "codemirror_mode": {
    "name": "ipython",
    "version": 3
   },
   "file_extension": ".py",
   "mimetype": "text/x-python",
   "name": "python",
   "nbconvert_exporter": "python",
   "pygments_lexer": "ipython3",
   "version": "3.9.13"
  }
 },
 "nbformat": 4,
 "nbformat_minor": 1
}
