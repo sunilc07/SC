{
 "cells": [
  {
   "cell_type": "code",
   "execution_count": null,
   "metadata": {
    "id": "hdWIvauoMfgD"
   },
   "outputs": [],
   "source": [
    "import math"
   ]
  },
  {
   "cell_type": "code",
   "execution_count": null,
   "metadata": {
    "id": "dog8yT-oMsst"
   },
   "outputs": [],
   "source": [
    "def winner(weights, sample):\n",
    "  d0 = 0\n",
    "  d1 = 0\n",
    "  for i in range(len(sample)):\n",
    "    d0 = d0 + math.pow((sample[i] - weights[0][i]),2)\n",
    "    d1 = d1 + math.pow((sample[i] - weights[1][i]),2)\n",
    "\n",
    "    if d0 > d1:\n",
    "      return 1\n",
    "    else:\n",
    "      return 0"
   ]
  },
  {
   "cell_type": "code",
   "execution_count": null,
   "metadata": {
    "id": "Uu5yXf4FNt7W"
   },
   "outputs": [],
   "source": [
    "def update_w(weights, sample, J, alpha):\n",
    "  for i in range(len(weights)):\n",
    "    weights[J][i] = weights[J][i] + alpha * (sample[i] - weights[J][i])\n",
    "    return weights"
   ]
  },
  {
   "cell_type": "code",
   "execution_count": null,
   "metadata": {
    "id": "8FkVl2obOWgT"
   },
   "outputs": [],
   "source": [
    "# Training Examples\n",
    "T = [[1,1,0,0],[0,0,0,1],[1,0,0,0],[0,0,1,1]]\n",
    "\n",
    "m,n = len(T), len(T[0])\n",
    "\n",
    "#Initial Weights\n",
    "weights = [[0.2,0.6,0.5,0.9],[0.8,0.4,0.7,0.3]]"
   ]
  },
  {
   "cell_type": "code",
   "execution_count": null,
   "metadata": {
    "colab": {
     "base_uri": "https://localhost:8080/"
    },
    "executionInfo": {
     "elapsed": 4,
     "status": "ok",
     "timestamp": 1679639073541,
     "user": {
      "displayName": "Siddhesh Mane",
      "userId": "09291277865058311581"
     },
     "user_tz": -330
    },
    "id": "qLFQzK59PxJU",
    "outputId": "9ad2c213-e103-43af-f140-256bb0158b02"
   },
   "outputs": [
    {
     "name": "stdout",
     "output_type": "stream",
     "text": [
      "The sample S belongs to cluster 0\n",
      "Trained weights are  [[0.003125, 0.6, 0.5, 0.9], [0.996875, 0.4, 0.7, 0.3]]\n"
     ]
    }
   ],
   "source": [
    "epochs = 3\n",
    "alpha = 0.5\n",
    "\n",
    "for i in range(epochs):\n",
    "  for j in range(m):\n",
    "    sample = T[j]\n",
    "    J = winner(weights, sample)\n",
    "    weights = update_w(weights, sample, J, alpha)\n",
    "\n",
    "S = [0,0,0,1]\n",
    "print(\"The sample S belongs to cluster\", winner(weights,S))\n",
    "print(\"Trained weights are \", weights)"
   ]
  },
  {
   "cell_type": "code",
   "execution_count": null,
   "metadata": {
    "id": "0Z9Ujy0RRD-N"
   },
   "outputs": [],
   "source": []
  }
 ],
 "metadata": {
  "colab": {
   "authorship_tag": "ABX9TyPS2OIk7cZkV03rs6p9eVhd",
   "provenance": []
  },
  "kernelspec": {
   "display_name": "Python 3 (ipykernel)",
   "language": "python",
   "name": "python3"
  },
  "language_info": {
   "codemirror_mode": {
    "name": "ipython",
    "version": 3
   },
   "file_extension": ".py",
   "mimetype": "text/x-python",
   "name": "python",
   "nbconvert_exporter": "python",
   "pygments_lexer": "ipython3",
   "version": "3.9.13"
  }
 },
 "nbformat": 4,
 "nbformat_minor": 1
}
