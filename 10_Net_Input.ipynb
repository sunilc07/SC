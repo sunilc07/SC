{
 "cells": [
  {
   "cell_type": "code",
   "execution_count": 10,
   "metadata": {
    "executionInfo": {
     "elapsed": 413,
     "status": "ok",
     "timestamp": 1680417541079,
     "user": {
      "displayName": "Siddhesh Mane",
      "userId": "09291277865058311581"
     },
     "user_tz": -330
    },
    "id": "VopdhsC4pC9o"
   },
   "outputs": [],
   "source": [
    "import math"
   ]
  },
  {
   "cell_type": "code",
   "execution_count": 2,
   "metadata": {
    "colab": {
     "base_uri": "https://localhost:8080/"
    },
    "executionInfo": {
     "elapsed": 7125,
     "status": "ok",
     "timestamp": 1680417518586,
     "user": {
      "displayName": "Siddhesh Mane",
      "userId": "09291277865058311581"
     },
     "user_tz": -330
    },
    "id": "jztDaMZ-pHZx",
    "outputId": "8aba2752-7cce-4b04-a773-d95792d1c236"
   },
   "outputs": [
    {
     "name": "stdout",
     "output_type": "stream",
     "text": [
      "Enter the value for bias: 0.35\n",
      "Enter the number of input neurons: 3\n"
     ]
    }
   ],
   "source": [
    "bias = float(input(\"Enter the value for bias: \"))\n",
    "n = int(input(\"Enter the number of input neurons: \"))"
   ]
  },
  {
   "cell_type": "code",
   "execution_count": 3,
   "metadata": {
    "colab": {
     "base_uri": "https://localhost:8080/"
    },
    "executionInfo": {
     "elapsed": 40,
     "status": "ok",
     "timestamp": 1680417518587,
     "user": {
      "displayName": "Siddhesh Mane",
      "userId": "09291277865058311581"
     },
     "user_tz": -330
    },
    "id": "2YhHtTHXpMEk",
    "outputId": "18afe34b-a4c0-4202-e3e5-caf54f79858a"
   },
   "outputs": [
    {
     "name": "stdout",
     "output_type": "stream",
     "text": [
      "bias value is 0.35\n",
      "U decided to go with 3 input neurons\n"
     ]
    }
   ],
   "source": [
    "print(\"bias value is\",bias)\n",
    "print(\"U decided to go with\",n,\"input neurons\")"
   ]
  },
  {
   "cell_type": "code",
   "execution_count": 4,
   "metadata": {
    "colab": {
     "base_uri": "https://localhost:8080/"
    },
    "executionInfo": {
     "elapsed": 17882,
     "status": "ok",
     "timestamp": 1680417536432,
     "user": {
      "displayName": "Siddhesh Mane",
      "userId": "09291277865058311581"
     },
     "user_tz": -330
    },
    "id": "f6KBCJAgpQTG",
    "outputId": "c1cf9bf5-21dd-414a-afeb-bb134a2a92f8"
   },
   "outputs": [
    {
     "name": "stdout",
     "output_type": "stream",
     "text": [
      "Enter input value: 0.8\n",
      "Enter weight value: 0.1\n",
      "Enter input value: 0.6\n",
      "Enter weight value: 0.3\n",
      "Enter input value: 0.4\n",
      "Enter weight value: -0.2\n"
     ]
    }
   ],
   "source": [
    "weights=[]\n",
    "inputs=[]\n",
    "for i in range (0,n):\n",
    "    a=float(input(\"Enter input value: \"))\n",
    "    inputs.append(a)\n",
    "    b=float(input(\"Enter weight value: \"))\n",
    "    weights.append(b)"
   ]
  },
  {
   "cell_type": "code",
   "execution_count": 11,
   "metadata": {
    "colab": {
     "base_uri": "https://localhost:8080/"
    },
    "executionInfo": {
     "elapsed": 624,
     "status": "ok",
     "timestamp": 1680417547335,
     "user": {
      "displayName": "Siddhesh Mane",
      "userId": "09291277865058311581"
     },
     "user_tz": -330
    },
    "id": "cMh9gWswptRQ",
    "outputId": "ce3ba363-0266-42a2-a424-d80e21017f59"
   },
   "outputs": [
    {
     "name": "stdout",
     "output_type": "stream",
     "text": [
      "Inputs are :\n",
      "[0.8, 0.6, 0.4]\n"
     ]
    }
   ],
   "source": [
    "print(\"Inputs are :\")\n",
    "print(inputs)"
   ]
  },
  {
   "cell_type": "code",
   "execution_count": 12,
   "metadata": {
    "colab": {
     "base_uri": "https://localhost:8080/"
    },
    "executionInfo": {
     "elapsed": 420,
     "status": "ok",
     "timestamp": 1680417549998,
     "user": {
      "displayName": "Siddhesh Mane",
      "userId": "09291277865058311581"
     },
     "user_tz": -330
    },
    "id": "yO_E9EihpUde",
    "outputId": "bd8ba661-1a02-4582-a2ec-2cdca8afaf76"
   },
   "outputs": [
    {
     "name": "stdout",
     "output_type": "stream",
     "text": [
      "Weights are :\n",
      "[0.1, 0.3, -0.2]\n"
     ]
    }
   ],
   "source": [
    "print(\"Weights are :\")\n",
    "print(weights)"
   ]
  },
  {
   "cell_type": "code",
   "execution_count": 13,
   "metadata": {
    "colab": {
     "base_uri": "https://localhost:8080/"
    },
    "executionInfo": {
     "elapsed": 11,
     "status": "ok",
     "timestamp": 1680417553069,
     "user": {
      "displayName": "Siddhesh Mane",
      "userId": "09291277865058311581"
     },
     "user_tz": -330
    },
    "id": "pHo39pKopngs",
    "outputId": "f3221369-b504-4693-80f9-a1eacbff38b5"
   },
   "outputs": [
    {
     "name": "stdout",
     "output_type": "stream",
     "text": [
      "Net Input is : 0.53\n"
     ]
    }
   ],
   "source": [
    "net_input = bias\n",
    "for i in range(0,n):\n",
    "    net_input = net_input + (weights[i]*inputs[i])\n",
    "print(\"Net Input is :\",net_input)"
   ]
  },
  {
   "cell_type": "code",
   "execution_count": 14,
   "metadata": {
    "colab": {
     "base_uri": "https://localhost:8080/"
    },
    "executionInfo": {
     "elapsed": 12,
     "status": "ok",
     "timestamp": 1680417554718,
     "user": {
      "displayName": "Siddhesh Mane",
      "userId": "09291277865058311581"
     },
     "user_tz": -330
    },
    "id": "8TuZvi3Epp96",
    "outputId": "2456fc15-0a5a-4994-8829-843f7e389854"
   },
   "outputs": [
    {
     "name": "stdout",
     "output_type": "stream",
     "text": [
      "output using binary sigmoidal activation function 0.629\n"
     ]
    }
   ],
   "source": [
    "#Calculating output using binary sigmoidal activation function\n",
    "binary_op=1/(1+(math.exp(-net_input)))\n",
    "print(\"output using binary sigmoidal activation function\",\n",
    "     round(binary_op,3))"
   ]
  },
  {
   "cell_type": "code",
   "execution_count": 15,
   "metadata": {
    "colab": {
     "base_uri": "https://localhost:8080/"
    },
    "executionInfo": {
     "elapsed": 480,
     "status": "ok",
     "timestamp": 1680417563370,
     "user": {
      "displayName": "Siddhesh Mane",
      "userId": "09291277865058311581"
     },
     "user_tz": -330
    },
    "id": "EWx09QXTp7gt",
    "outputId": "f1808351-ef33-4793-f731-fac1134ca37b"
   },
   "outputs": [
    {
     "name": "stdout",
     "output_type": "stream",
     "text": [
      "output using bipolar sigmoidal activation function 0.259\n"
     ]
    }
   ],
   "source": [
    "#Calculating output using binary sigmoidal activation function\n",
    "bipolar_op=-1+(2/(1+(math.exp(-net_input))))\n",
    "print(\"output using bipolar sigmoidal activation function\",\n",
    "     round(bipolar_op,3))"
   ]
  },
  {
   "cell_type": "code",
   "execution_count": 9,
   "metadata": {
    "executionInfo": {
     "elapsed": 36,
     "status": "ok",
     "timestamp": 1680417536438,
     "user": {
      "displayName": "Siddhesh Mane",
      "userId": "09291277865058311581"
     },
     "user_tz": -330
    },
    "id": "Ke5l_vppp8Zd"
   },
   "outputs": [],
   "source": []
  }
 ],
 "metadata": {
  "colab": {
   "authorship_tag": "ABX9TyPpbAQUmLZY6o669FxYZgJT",
   "provenance": []
  },
  "kernelspec": {
   "display_name": "Python 3 (ipykernel)",
   "language": "python",
   "name": "python3"
  },
  "language_info": {
   "codemirror_mode": {
    "name": "ipython",
    "version": 3
   },
   "file_extension": ".py",
   "mimetype": "text/x-python",
   "name": "python",
   "nbconvert_exporter": "python",
   "pygments_lexer": "ipython3",
   "version": "3.9.13"
  }
 },
 "nbformat": 4,
 "nbformat_minor": 1
}
